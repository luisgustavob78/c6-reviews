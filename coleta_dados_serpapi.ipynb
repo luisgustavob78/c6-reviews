{
 "cells": [
  {
   "cell_type": "markdown",
   "id": "547134da",
   "metadata": {},
   "source": [
    "# Coleta de dados do Google Maps com serpapi\n",
    "\n",
    "Nesse notebook, fazemos a coleta de dados de reviews do C6 Bank no google maps através do serviço de APIs serpapi"
   ]
  },
  {
   "cell_type": "code",
   "execution_count": null,
   "id": "d0522922",
   "metadata": {},
   "outputs": [],
   "source": [
    "#!pip install google-search-results"
   ]
  },
  {
   "cell_type": "code",
   "execution_count": 1,
   "id": "0d04af45",
   "metadata": {},
   "outputs": [],
   "source": [
    "#carregando as bibliotecas utilizadas\n",
    "from serpapi import GoogleSearch\n",
    "import pandas as pd\n",
    "from urllib.parse import urlsplit, parse_qsl\n",
    "import json"
   ]
  },
  {
   "cell_type": "code",
   "execution_count": 2,
   "id": "17ab028c",
   "metadata": {},
   "outputs": [],
   "source": [
    "#Definindo os parâmetros de busca da API para coletar os dados no Google Maps\n",
    "#A chave de API é gerada através da criação de uma conta no site da serpapi\n",
    "params = {\n",
    "    \"engine\": \"google_maps_reviews\",\n",
    "    \"place_id\": \"ChIJ87_iBn5ZzpQR0YGW03t9vz0\",\n",
    "    \"api_key\": \"c16325e4a13aede38fdcc65a398db7a813e3e96b8a508abfcf9148f514a7f41a\"\n",
    "}\n",
    "\n",
    "search = GoogleSearch(params)\n",
    "results = search.get_dict()\n",
    "# reviews = results['reviews']"
   ]
  },
  {
   "cell_type": "code",
   "execution_count": 3,
   "id": "a1761089",
   "metadata": {},
   "outputs": [
    {
     "ename": "KeyError",
     "evalue": "'reviews'",
     "output_type": "error",
     "traceback": [
      "\u001b[1;31m---------------------------------------------------------------------------\u001b[0m",
      "\u001b[1;31mKeyError\u001b[0m                                  Traceback (most recent call last)",
      "\u001b[1;32m~\\AppData\\Local\\Temp\\ipykernel_1348\\471334785.py\u001b[0m in \u001b[0;36m<module>\u001b[1;34m\u001b[0m\n\u001b[0;32m      5\u001b[0m \u001b[1;32mwhile\u001b[0m \u001b[1;32mTrue\u001b[0m\u001b[1;33m:\u001b[0m\u001b[1;33m\u001b[0m\u001b[1;33m\u001b[0m\u001b[0m\n\u001b[0;32m      6\u001b[0m     \u001b[0mnew_reviews_page_result\u001b[0m \u001b[1;33m=\u001b[0m \u001b[0msearch\u001b[0m\u001b[1;33m.\u001b[0m\u001b[0mget_dict\u001b[0m\u001b[1;33m(\u001b[0m\u001b[1;33m)\u001b[0m\u001b[1;33m\u001b[0m\u001b[1;33m\u001b[0m\u001b[0m\n\u001b[1;32m----> 7\u001b[1;33m     \u001b[0mreviews\u001b[0m\u001b[1;33m.\u001b[0m\u001b[0mextend\u001b[0m\u001b[1;33m(\u001b[0m\u001b[0mnew_reviews_page_result\u001b[0m\u001b[1;33m[\u001b[0m\u001b[1;34m'reviews'\u001b[0m\u001b[1;33m]\u001b[0m\u001b[1;33m)\u001b[0m\u001b[1;33m\u001b[0m\u001b[1;33m\u001b[0m\u001b[0m\n\u001b[0m\u001b[0;32m      8\u001b[0m \u001b[1;33m\u001b[0m\u001b[0m\n\u001b[0;32m      9\u001b[0m     \u001b[1;32mif\u001b[0m \u001b[0mnew_reviews_page_result\u001b[0m\u001b[1;33m.\u001b[0m\u001b[0mget\u001b[0m\u001b[1;33m(\u001b[0m\u001b[1;34m'serpapi_pagination'\u001b[0m\u001b[1;33m)\u001b[0m\u001b[1;33m.\u001b[0m\u001b[0mget\u001b[0m\u001b[1;33m(\u001b[0m\u001b[1;34m'next'\u001b[0m\u001b[1;33m)\u001b[0m \u001b[1;32mand\u001b[0m \u001b[0mnew_reviews_page_result\u001b[0m\u001b[1;33m.\u001b[0m\u001b[0mget\u001b[0m\u001b[1;33m(\u001b[0m\u001b[1;34m'serpapi_pagination'\u001b[0m\u001b[1;33m)\u001b[0m\u001b[1;33m.\u001b[0m\u001b[0mget\u001b[0m\u001b[1;33m(\u001b[0m\u001b[1;34m'next_page_token'\u001b[0m\u001b[1;33m)\u001b[0m\u001b[1;33m:\u001b[0m\u001b[1;33m\u001b[0m\u001b[1;33m\u001b[0m\u001b[0m\n",
      "\u001b[1;31mKeyError\u001b[0m: 'reviews'"
     ]
    }
   ],
   "source": [
    "#nesse loop, vamos percorrer todas as páginas resultantes na busca e coletar os reviews de cada uma delas\n",
    "#a celula deu erro quando o limite de chamadas na API da minha conta na serpapi chegou ao limite de uma conta free\n",
    "reviews = []\n",
    "\n",
    "while True:\n",
    "    new_reviews_page_result = search.get_dict()\n",
    "    reviews.extend(new_reviews_page_result['reviews'])\n",
    "    \n",
    "    if new_reviews_page_result.get('serpapi_pagination').get('next') and new_reviews_page_result.get('serpapi_pagination').get('next_page_token'):\n",
    "        search.params_dict.update(dict(parse_qsl(urlsplit(new_reviews_page_result.get('serpapi_pagination', {}).get('next')).query)))\n",
    "    else:\n",
    "        break"
   ]
  },
  {
   "cell_type": "code",
   "execution_count": 5,
   "id": "a3490ffa",
   "metadata": {},
   "outputs": [
    {
     "data": {
      "text/plain": [
       "1000"
      ]
     },
     "execution_count": 5,
     "metadata": {},
     "output_type": "execute_result"
    }
   ],
   "source": [
    "#checando a quantidade de reviws coletados\n",
    "len(reviews)"
   ]
  },
  {
   "cell_type": "code",
   "execution_count": 9,
   "id": "d00f98c9",
   "metadata": {},
   "outputs": [
    {
     "data": {
      "text/html": [
       "<div>\n",
       "<style scoped>\n",
       "    .dataframe tbody tr th:only-of-type {\n",
       "        vertical-align: middle;\n",
       "    }\n",
       "\n",
       "    .dataframe tbody tr th {\n",
       "        vertical-align: top;\n",
       "    }\n",
       "\n",
       "    .dataframe thead th {\n",
       "        text-align: right;\n",
       "    }\n",
       "</style>\n",
       "<table border=\"1\" class=\"dataframe\">\n",
       "  <thead>\n",
       "    <tr style=\"text-align: right;\">\n",
       "      <th></th>\n",
       "      <th>name</th>\n",
       "      <th>review</th>\n",
       "      <th>rating</th>\n",
       "    </tr>\n",
       "  </thead>\n",
       "  <tbody>\n",
       "    <tr>\n",
       "      <th>0</th>\n",
       "      <td>motoadventurebound</td>\n",
       "      <td>C6Bank, is now tracking CO2 emissions from pur...</td>\n",
       "      <td>1.0</td>\n",
       "    </tr>\n",
       "    <tr>\n",
       "      <th>1</th>\n",
       "      <td>Miro Nomadic</td>\n",
       "      <td>This bank keeps spamming me with messages to g...</td>\n",
       "      <td>1.0</td>\n",
       "    </tr>\n",
       "    <tr>\n",
       "      <th>2</th>\n",
       "      <td>David Ramin</td>\n",
       "      <td>The WORST digital bank\\nEverything is HORRIBLE...</td>\n",
       "      <td>1.0</td>\n",
       "    </tr>\n",
       "    <tr>\n",
       "      <th>3</th>\n",
       "      <td>Ana Fagundes</td>\n",
       "      <td>BAD BAD BAD- downloaded app, never got the car...</td>\n",
       "      <td>1.0</td>\n",
       "    </tr>\n",
       "    <tr>\n",
       "      <th>4</th>\n",
       "      <td>Marcelo Lima</td>\n",
       "      <td>The best bank I've ever seen!</td>\n",
       "      <td>5.0</td>\n",
       "    </tr>\n",
       "  </tbody>\n",
       "</table>\n",
       "</div>"
      ],
      "text/plain": [
       "                 name                                             review  \\\n",
       "0  motoadventurebound  C6Bank, is now tracking CO2 emissions from pur...   \n",
       "1        Miro Nomadic  This bank keeps spamming me with messages to g...   \n",
       "2         David Ramin  The WORST digital bank\\nEverything is HORRIBLE...   \n",
       "3        Ana Fagundes  BAD BAD BAD- downloaded app, never got the car...   \n",
       "4        Marcelo Lima                      The best bank I've ever seen!   \n",
       "\n",
       "   rating  \n",
       "0     1.0  \n",
       "1     1.0  \n",
       "2     1.0  \n",
       "3     1.0  \n",
       "4     5.0  "
      ]
     },
     "execution_count": 9,
     "metadata": {},
     "output_type": "execute_result"
    }
   ],
   "source": [
    "#Agora, vamos colocar os dados de review em formato de pandas dataframe\n",
    "reviews_dict={}\n",
    "\n",
    "# listas vazias para armaenar nome, review e rating\n",
    "name_lst, review_lst, rating_lst = [],[],[]\n",
    "\n",
    "for i in reviews:\n",
    "    # armazenando os dados nas respectivas listas\n",
    "    name_lst.append(i['user']['name'])\n",
    "    review_lst.append(i['snippet'])\n",
    "    rating_lst.append(i['rating'])\n",
    "\n",
    "# armazenando as listas em um dicionário para adequar ao formato de dataframe\n",
    "reviews_dict['name'] = name_lst\n",
    "reviews_dict['review'] = review_lst\n",
    "reviews_dict['rating'] = rating_lst\n",
    "\n",
    "# criando o dataframe\n",
    "df = pd.DataFrame(reviews_dict)\n",
    "df.head()"
   ]
  },
  {
   "cell_type": "code",
   "execution_count": 12,
   "id": "97f7f814",
   "metadata": {},
   "outputs": [],
   "source": [
    "#salvando os dados que foram coletados\n",
    "df.to_csv(\"./c6bank_reviews.csv\", index=False)"
   ]
  },
  {
   "cell_type": "code",
   "execution_count": null,
   "id": "986bc16b",
   "metadata": {},
   "outputs": [],
   "source": []
  }
 ],
 "metadata": {
  "kernelspec": {
   "display_name": "Python 3 (ipykernel)",
   "language": "python",
   "name": "python3"
  },
  "language_info": {
   "codemirror_mode": {
    "name": "ipython",
    "version": 3
   },
   "file_extension": ".py",
   "mimetype": "text/x-python",
   "name": "python",
   "nbconvert_exporter": "python",
   "pygments_lexer": "ipython3",
   "version": "3.9.13"
  }
 },
 "nbformat": 4,
 "nbformat_minor": 5
}
