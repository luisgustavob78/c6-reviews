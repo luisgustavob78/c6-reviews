{
 "cells": [
  {
   "cell_type": "code",
   "execution_count": 1,
   "id": "ef43667d",
   "metadata": {},
   "outputs": [],
   "source": [
    "#importando as bibliotecas necessárias\n",
    "import pandas as pd\n",
    "\n",
    "import matplotlib.pyplot as plt\n",
    "import seaborn as sns"
   ]
  },
  {
   "cell_type": "code",
   "execution_count": 2,
   "id": "59d8648e",
   "metadata": {},
   "outputs": [
    {
     "data": {
      "text/html": [
       "<div>\n",
       "<style scoped>\n",
       "    .dataframe tbody tr th:only-of-type {\n",
       "        vertical-align: middle;\n",
       "    }\n",
       "\n",
       "    .dataframe tbody tr th {\n",
       "        vertical-align: top;\n",
       "    }\n",
       "\n",
       "    .dataframe thead th {\n",
       "        text-align: right;\n",
       "    }\n",
       "</style>\n",
       "<table border=\"1\" class=\"dataframe\">\n",
       "  <thead>\n",
       "    <tr style=\"text-align: right;\">\n",
       "      <th></th>\n",
       "      <th>name</th>\n",
       "      <th>review</th>\n",
       "      <th>rating</th>\n",
       "      <th>language</th>\n",
       "      <th>sentiment</th>\n",
       "      <th>issue</th>\n",
       "    </tr>\n",
       "  </thead>\n",
       "  <tbody>\n",
       "    <tr>\n",
       "      <th>0</th>\n",
       "      <td>Michael Capela</td>\n",
       "      <td>Não recomendo o C6 Bank para ninguém, simplesm...</td>\n",
       "      <td>1.0</td>\n",
       "      <td>pt</td>\n",
       "      <td>NEGATIVE</td>\n",
       "      <td>Customer Support</td>\n",
       "    </tr>\n",
       "    <tr>\n",
       "      <th>1</th>\n",
       "      <td>Edson Pereira</td>\n",
       "      <td>Tenho conta ha tempos. Boa movimentação no car...</td>\n",
       "      <td>2.0</td>\n",
       "      <td>pt</td>\n",
       "      <td>NEGATIVE</td>\n",
       "      <td>Credit Refusal</td>\n",
       "    </tr>\n",
       "    <tr>\n",
       "      <th>2</th>\n",
       "      <td>JOÃO BAND</td>\n",
       "      <td>pior empresa pra se ter conta, meu deus... blo...</td>\n",
       "      <td>1.0</td>\n",
       "      <td>pt</td>\n",
       "      <td>NEGATIVE</td>\n",
       "      <td>Customer Support</td>\n",
       "    </tr>\n",
       "  </tbody>\n",
       "</table>\n",
       "</div>"
      ],
      "text/plain": [
       "             name                                             review  rating  \\\n",
       "0  Michael Capela  Não recomendo o C6 Bank para ninguém, simplesm...     1.0   \n",
       "1   Edson Pereira  Tenho conta ha tempos. Boa movimentação no car...     2.0   \n",
       "2       JOÃO BAND  pior empresa pra se ter conta, meu deus... blo...     1.0   \n",
       "\n",
       "  language sentiment             issue  \n",
       "0       pt  NEGATIVE  Customer Support  \n",
       "1       pt  NEGATIVE    Credit Refusal  \n",
       "2       pt  NEGATIVE  Customer Support  "
      ]
     },
     "execution_count": 2,
     "metadata": {},
     "output_type": "execute_result"
    }
   ],
   "source": [
    "#carregando a base de dados com as categorias geradas pelo modelo gpt3.5-turbo\n",
    "path = \"./gpt35turbo_generated_issues.csv\"\n",
    "data = pd.read_csv(path)\n",
    "data.head(3)"
   ]
  },
  {
   "cell_type": "code",
   "execution_count": 3,
   "id": "1a31b8fd",
   "metadata": {},
   "outputs": [
    {
     "data": {
      "text/plain": [
       "['Customer Support',\n",
       " 'Credit Refusal',\n",
       " 'User Experience',\n",
       " 'Category: User Experience',\n",
       " 'Improper Billing',\n",
       " 'Category: Customer Support',\n",
       " 'Category: Credit Refusal',\n",
       " 'Fraud',\n",
       " 'Credit Refusal.',\n",
       " 'Customer Support.',\n",
       " 'Category: Improper Billing',\n",
       " 'User Experience.',\n",
       " 'Fraud.',\n",
       " 'The review falls under the',\n",
       " 'Category: Fraud',\n",
       " 'Improper Billing and User',\n",
       " \"['Fraud']\",\n",
       " 'The review falls into the',\n",
       " 'I would categorize this',\n",
       " \"['Customer Support']\",\n",
       " 'Category: Customer Support.',\n",
       " 'The review can be categorized',\n",
       " \"['Credit Refusal']\",\n",
       " 'Category: User Experience.',\n",
       " 'Improper Billing.',\n",
       " \"Category: 'Fraud\",\n",
       " 'This review can be categorized']"
      ]
     },
     "execution_count": 3,
     "metadata": {},
     "output_type": "execute_result"
    }
   ],
   "source": [
    "#checando as categorias geradas pelo modelo gpt 3.5 turbo\n",
    "issues = list(data[\"issue\"].unique())\n",
    "issues"
   ]
  },
  {
   "cell_type": "markdown",
   "id": "144cb441",
   "metadata": {},
   "source": [
    "Como podemos ver, o chat gerou outputs diferentes para categorias que se referem ao mesmo tipo de problema, portanto, devemos fazer alguns ajustes"
   ]
  },
  {
   "cell_type": "code",
   "execution_count": 4,
   "id": "dba01c5d",
   "metadata": {},
   "outputs": [],
   "source": [
    "#definindo um dicionário para renomear as categorias\n",
    "rename_dict = {'Category: User Experience': 'User Experience',\n",
    "              'Category: Customer Support': 'Customer Support',\n",
    "              'Category: Credit Refusal': 'Credit Refusal',\n",
    "               'Category: Customer Support.': 'Customer Support',\n",
    "              'Credit Refusal.': 'Credit Refusal',\n",
    "              'Customer Support.': 'Customer Support',\n",
    "              'Category: Improper Billing': 'Improper Billing',\n",
    "              'User Experience.': 'User Experience',\n",
    "              'Fraud.': 'Fraud',\n",
    "              'Category: Fraud': 'Fraud',\n",
    "              \"['Fraud']\": 'Fraud',\n",
    "              \"['Customer Support']\": 'Customer Support',\n",
    "              \"['Credit Refusal']\": 'Credit Refusal',\n",
    "              'Category: User Experience.': 'User Experience',\n",
    "              'Improper Billing.': 'Improper Billing',\n",
    "              \"Category: 'Fraud\": 'Fraud',\n",
    "              }\n",
    "\n",
    "#aplicando a substituição\n",
    "data[\"issue\"] = data[\"issue\"].replace(rename_dict)"
   ]
  },
  {
   "cell_type": "code",
   "execution_count": 5,
   "id": "6b963550",
   "metadata": {},
   "outputs": [
    {
     "data": {
      "text/html": [
       "<div>\n",
       "<style scoped>\n",
       "    .dataframe tbody tr th:only-of-type {\n",
       "        vertical-align: middle;\n",
       "    }\n",
       "\n",
       "    .dataframe tbody tr th {\n",
       "        vertical-align: top;\n",
       "    }\n",
       "\n",
       "    .dataframe thead th {\n",
       "        text-align: right;\n",
       "    }\n",
       "</style>\n",
       "<table border=\"1\" class=\"dataframe\">\n",
       "  <thead>\n",
       "    <tr style=\"text-align: right;\">\n",
       "      <th></th>\n",
       "      <th>issue</th>\n",
       "      <th>total_reviews</th>\n",
       "    </tr>\n",
       "  </thead>\n",
       "  <tbody>\n",
       "    <tr>\n",
       "      <th>1</th>\n",
       "      <td>Customer Support</td>\n",
       "      <td>442</td>\n",
       "    </tr>\n",
       "    <tr>\n",
       "      <th>10</th>\n",
       "      <td>User Experience</td>\n",
       "      <td>228</td>\n",
       "    </tr>\n",
       "    <tr>\n",
       "      <th>4</th>\n",
       "      <td>Improper Billing</td>\n",
       "      <td>124</td>\n",
       "    </tr>\n",
       "  </tbody>\n",
       "</table>\n",
       "</div>"
      ],
      "text/plain": [
       "               issue  total_reviews\n",
       "1   Customer Support            442\n",
       "10   User Experience            228\n",
       "4   Improper Billing            124"
      ]
     },
     "execution_count": 5,
     "metadata": {},
     "output_type": "execute_result"
    }
   ],
   "source": [
    "#agrupando as categorias por contagem de cada uma delas\n",
    "df_issues = pd.DataFrame(data.groupby([\"issue\"])[\"issue\"].count().rename(\"total_reviews\"))\n",
    "df_issues = df_issues.reset_index()\n",
    "df_issues = df_issues.sort_values(by=\"total_reviews\", ascending=False)\n",
    "df_issues.head(3)"
   ]
  },
  {
   "cell_type": "code",
   "execution_count": 7,
   "id": "58c8e0f8",
   "metadata": {},
   "outputs": [],
   "source": [
    "#vamos filtrar apenas as categorias que foram definidas previamente e que fazem sentido à análise\n",
    "df_issues = df_issues[df_issues[\"total_reviews\"] >= 51]"
   ]
  },
  {
   "cell_type": "code",
   "execution_count": 10,
   "id": "bee7df1a",
   "metadata": {},
   "outputs": [
    {
     "data": {
      "text/plain": [
       "Text(0.5, 1.0, 'Contagem de reviews por categoria')"
      ]
     },
     "execution_count": 10,
     "metadata": {},
     "output_type": "execute_result"
    },
    {
     "data": {
      "image/png": "[encoded data removed]",
      "text/plain": [
       "<Figure size 800x400 with 1 Axes>"
      ]
     },
     "metadata": {},
     "output_type": "display_data"
    }
   ],
   "source": [
    "#visualizando a contagem de reviews por categoria\n",
    "plt.figure(figsize=(8, 4))\n",
    "sns.barplot(data=df_issues, x=\"issue\", y=\"total_reviews\")\n",
    "plt.title(\"Contagem de reviews por categoria\")"
   ]
  },
  {
   "cell_type": "markdown",
   "id": "469062cf",
   "metadata": {},
   "source": [
    "### Analisando os resultados"
   ]
  },
  {
   "cell_type": "markdown",
   "id": "6c34246b",
   "metadata": {},
   "source": [
    "Em termos de volume de reclamações, o suporte ao cliente certamente é um problema a ser atacado. Porém, como cobrança indevida também é uma situação que gera uma experiência bem desgastante na perspectiva do cliente, vamos usá-la também para construir esboços de possíveis abordagens para amenizar essas situações"
   ]
  },
  {
   "cell_type": "code",
   "execution_count": null,
   "id": "284d9f27",
   "metadata": {},
   "outputs": [],
   "source": []
  }
 ],
 "metadata": {
  "kernelspec": {
   "display_name": "Python 3 (ipykernel)",
   "language": "python",
   "name": "python3"
  },
  "language_info": {
   "codemirror_mode": {
    "name": "ipython",
    "version": 3
   },
   "file_extension": ".py",
   "mimetype": "text/x-python",
   "name": "python",
   "nbconvert_exporter": "python",
   "pygments_lexer": "ipython3",
   "version": "3.9.13"
  }
 },
 "nbformat": 4,
 "nbformat_minor": 5
}
